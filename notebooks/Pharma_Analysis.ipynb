{
  "cells": [
    {
      "cell_type": "markdown",
      "metadata": {},
      "source": [
        "# Pharma Sales Analysis\n",
        "\n",
        "This notebook analyzes pharmaceutical sales data to help Company W achieve their 20% revenue growth target in 2025."
      ]
    },
    {
      "cell_type": "markdown",
      "metadata": {},
      "source": [
        "## 1. Setup and Data Loading\n",
        "\n",
        "First, let's import the required libraries and load our data."
      ]
    },
    {
      "cell_type": "code",
      "execution_count": 1,
      "metadata": {},
      "outputs": [
        {
          "ename": "ModuleNotFoundError",
          "evalue": "No module named 'pandas'",
          "output_type": "error",
          "traceback": [
            "\u001b[0;31m---------------------------------------------------------------------------\u001b[0m",
            "\u001b[0;31mModuleNotFoundError\u001b[0m                       Traceback (most recent call last)",
            "Cell \u001b[0;32mIn[1], line 2\u001b[0m\n\u001b[1;32m      1\u001b[0m \u001b[38;5;66;03m# Import required libraries\u001b[39;00m\n\u001b[0;32m----> 2\u001b[0m \u001b[38;5;28;01mimport\u001b[39;00m \u001b[38;5;21;01mpandas\u001b[39;00m \u001b[38;5;28;01mas\u001b[39;00m \u001b[38;5;21;01mpd\u001b[39;00m\n\u001b[1;32m      3\u001b[0m \u001b[38;5;28;01mimport\u001b[39;00m \u001b[38;5;21;01mnumpy\u001b[39;00m \u001b[38;5;28;01mas\u001b[39;00m \u001b[38;5;21;01mnp\u001b[39;00m\n\u001b[1;32m      4\u001b[0m \u001b[38;5;28;01mfrom\u001b[39;00m \u001b[38;5;21;01msklearn\u001b[39;00m\u001b[38;5;21;01m.\u001b[39;00m\u001b[38;5;21;01mlinear_model\u001b[39;00m \u001b[38;5;28;01mimport\u001b[39;00m LinearRegression\n",
            "\u001b[0;31mModuleNotFoundError\u001b[0m: No module named 'pandas'"
          ]
        }
      ],
      "source": [
        "# Import required libraries\n",
        "import pandas as pd\n",
        "import numpy as np\n",
        "from sklearn.linear_model import LinearRegression\n",
        "import plotly.express as px\n",
        "import plotly.graph_objects as go\n",
        "import os\n",
        "\n",
        "# Import project modules\n",
        "from src.data_loader import DataLoader\n",
        "from src.data_processor import DataProcessor\n",
        "from src.analysis import SalesAnalyzer\n",
        "from src.visualizations import Visualizer"
      ]
    },
    {
      "cell_type": "code",
      "execution_count": null,
      "metadata": {},
      "outputs": [],
      "source": [
        "# Load and process data\n",
        "loader = DataLoader('./data/Pharma_Drug_Sales.csv')\n",
        "data = loader.load_data()\n",
        "\n",
        "print(\"Data shape:\", data.shape)\n",
        "print(\"\\nFirst few rows:\")\n",
        "data.head()"
      ]
    },
    {
      "cell_type": "markdown",
      "metadata": {},
      "source": [
        "## 2. Revenue Analysis\n",
        "\n",
        "Let's analyze the revenue metrics and Company W's performance."
      ]
    },
    {
      "cell_type": "code",
      "execution_count": null,
      "metadata": {},
      "outputs": [],
      "source": [
        "# Initialize processors\n",
        "processor = DataProcessor(data)\n",
        "analyzer = SalesAnalyzer(data)\n",
        "visualizer = Visualizer(data)\n",
        "\n",
        "# Calculate metrics\n",
        "metrics = processor.calculate_revenue_metrics()\n",
        "company_w_analysis = processor.analyze_company_w()\n",
        "\n",
        "print(\"Total Revenue:\", f\"${metrics['total_revenue']:,.2f}\")\n",
        "print(\"\\nTop Drugs by Revenue:\")\n",
        "print(metrics['revenue_by_drug'].head())"
      ]
    },
    {
      "cell_type": "markdown",
      "metadata": {},
      "source": [
        "## 3. Revenue Forecasting\n",
        "\n",
        "Now, let's forecast revenue for 2025 and analyze growth potential."
      ]
    },
    {
      "cell_type": "code",
      "execution_count": null,
      "metadata": {},
      "outputs": [],
      "source": [
        "# Generate forecasts\n",
        "forecast = analyzer.forecast_revenue_2025()\n",
        "\n",
        "print(\"2025 Forecast:\")\n",
        "print(f\"Forecast Revenue: ${forecast['forecast_2025']:,.2f}\")\n",
        "print(f\"Expected Growth: {forecast['expected_growth']:.1f}%\")\n",
        "\n",
        "# Identify key factors\n",
        "factors = analyzer.identify_key_factors()\n",
        "print(\"\\nPrice Elasticity:\", f\"{factors['price_elasticity']:.2f}\")"
      ]
    },
    {
      "cell_type": "markdown",
      "metadata": {},
      "source": [
        "## 4. Visualizations\n",
        "\n",
        "Let's create visualizations to better understand the data."
      ]
    },
    {
      "cell_type": "code",
      "execution_count": null,
      "metadata": {},
      "outputs": [],
      "source": [
        "# Create visualizations\n",
        "trends = visualizer.create_revenue_trends()\n",
        "company_analysis_viz = visualizer.create_company_w_analysis(company_w_analysis)\n",
        "\n",
        "# Display plots\n",
        "print(\"Revenue Trend Over Time:\")\n",
        "trends['revenue_trend'].show()\n",
        "\n",
        "print(\"\\nRevenue by Region:\")\n",
        "trends['revenue_by_region'].show()"
      ]
    },
    {
      "cell_type": "code",
      "execution_count": null,
      "metadata": {},
      "outputs": [],
      "source": [
        "print(\"Drug Performance Distribution:\")\n",
        "company_analysis_viz['drug_performance'].show()\n",
        "\n",
        "print(\"\\nChannel Performance:\")\n",
        "company_analysis_viz['channel_performance'].show()"
      ]
    },
    {
      "cell_type": "markdown",
      "metadata": {},
      "source": [
        "## 5. Recommendations\n",
        "\n",
        "Based on the analysis, let's generate recommendations for Company W."
      ]
    },
    {
      "cell_type": "code",
      "execution_count": null,
      "metadata": {},
      "outputs": [],
      "source": [
        "# Get recommendations\n",
        "recommendations = analyzer.recommend_focus_areas()\n",
        "\n",
        "print(\"Recommendations for Company W:\")\n",
        "print(f\"1. Focus Region: {recommendations['recommended_regions']}\")\n",
        "print(f\"2. Focus Channel: {recommendations['recommended_channels']}\")\n",
        "print(f\"3. Focus Drug: {recommendations['recommended_drugs']}\")"
      ]
    },
    {
      "cell_type": "markdown",
      "metadata": {},
      "source": [
        "## 6. Save Results\n",
        "\n",
        "Finally, let's save our analysis results."
      ]
    },
    {
      "cell_type": "code",
      "execution_count": null,
      "metadata": {},
      "outputs": [],
      "source": [
        "# Create output directory if it doesn't exist\n",
        "os.makedirs('output', exist_ok=True)\n",
        "\n",
        "# Save metrics to CSV\n",
        "pd.DataFrame(metrics['revenue_by_drug']).to_csv('output/revenue_by_drug.csv')\n",
        "pd.DataFrame(metrics['revenue_by_region']).to_csv('output/revenue_by_region.csv')\n",
        "\n",
        "# Save visualizations\n",
        "trends['revenue_trend'].write_html('output/revenue_trend.html')\n",
        "trends['revenue_by_region'].write_html('output/revenue_by_region.html')\n",
        "company_analysis_viz['drug_performance'].write_html('output/drug_performance.html')\n",
        "company_analysis_viz['channel_performance'].write_html('output/channel_performance.html')\n",
        "\n",
        "print(\"Analysis results saved to output directory\")"
      ]
    }
  ],
  "metadata": {
    "kernelspec": {
      "display_name": "Python 3",
      "language": "python",
      "name": "python3"
    },
    "language_info": {
      "codemirror_mode": {
        "name": "ipython",
        "version": 3
      },
      "file_extension": ".py",
      "mimetype": "text/x-python",
      "name": "python",
      "nbconvert_exporter": "python",
      "pygments_lexer": "ipython3",
      "version": "3.9.6"
    }
  },
  "nbformat": 4,
  "nbformat_minor": 4
}
